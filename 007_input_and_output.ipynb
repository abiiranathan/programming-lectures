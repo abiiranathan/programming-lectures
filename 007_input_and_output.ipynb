{
 "cells": [
  {
   "cell_type": "markdown",
   "metadata": {},
   "source": [
    "# Input and output (I/O) in Python\n",
    "\n",
    "I/O refers to the communication between a computer and the user. It is the process of transferring data between a computer and a peripheral device. In Python, the input() function is used to take input from the user, and the print() function is used to display output to the user.\n",
    "\n",
    "Other forms of I/O in Python include reading and writing files, reading and writing from the network, and reading and writing from a database. In this notebook, we will focus on input, output, and file I/O, and network I/O(a little bit).\n",
    "\n",
    "Let's start with input and output in Python."
   ]
  },
  {
   "cell_type": "markdown",
   "metadata": {},
   "source": [
    "## Reading input from the user\n",
    "\n",
    "> expression = input(prompt)"
   ]
  },
  {
   "cell_type": "code",
   "execution_count": 1,
   "metadata": {},
   "outputs": [
    {
     "name": "stdout",
     "output_type": "stream",
     "text": [
      "Hello, Abiira! You are 35 years old.\n"
     ]
    }
   ],
   "source": [
    "name = input(\"Enter your name: \")\n",
    "\n",
    "age = input(\"Enter your age: \")\n",
    "\n",
    "print(\"Hello, \" + name + \"! You are \" + age + \" years old.\")"
   ]
  },
  {
   "cell_type": "markdown",
   "metadata": {},
   "source": [
    "## Getting sensitive information\n",
    "\n",
    "When you are getting sensitive information from the user, you should use the getpass module. This module provides a secure way to handle the password input.\n",
    "\n",
    "This way, the password will not be displayed on the screen.\n",
    "\n",
    "\n",
    "```python\n",
    "\n",
    "import getpass\n",
    "password = getpass.getpass(prompt='Password: ')\n",
    "print(password)\n",
    "```\n"
   ]
  },
  {
   "cell_type": "markdown",
   "metadata": {},
   "source": [
    "> Remember that the getpass module is not available in the Jupyter notebook. You can run the code in your local environment."
   ]
  },
  {
   "cell_type": "markdown",
   "metadata": {},
   "source": [
    "# File IO\n",
    "\n",
    "File I/O (input/output) is a way of reading and writing data to and from a file. Python provides built-in functions for reading and writing files.\n",
    "\n",
    "## Opening a file\n",
    "`file = open('filename', 'mode')`\n",
    "\n",
    "The open() function takes two arguments: the filename and the mode. The mode can be 'r' for reading, 'w' for writing, or 'a' for appending. If the mode is not specified, it defaults to 'r'.\n",
    "\n",
    "You can also combine the modes. For example, 'r+' opens the file for both reading and writing,\n",
    "'w+' opens the file for reading and writing, and truncates the file first.\n",
    "\n",
    "To write binary data to a file, use 'wb' for writing and 'rb' for reading.\n",
    "\n",
    "## Closing a file\n",
    "`file.close()`\n",
    "\n",
    "It is important to close the file after you are done with it. This will free up system resources and prevent memory leaks.\n",
    "\n",
    "Why?: Your computer has a limited number of file descriptors. If you open too many files without closing them, you will run out of file descriptors, and you won't be able to open any more files.\n",
    "\n",
    "## Reading from a file\n",
    "`contents = file.read()`\n",
    "\n",
    "The read() method reads the entire file and returns its contents as a string.\n",
    "\n",
    "`contents = file.readline()`\n",
    "\n",
    "The readline() method reads a single line from the file and returns it as a string.\n",
    "\n",
    "`contents = file.readlines()`\n",
    "\n",
    "The readlines() method reads all the lines from the file and returns them as a list of strings.\n",
    "\n",
    "## Writing to a file\n",
    "`file.write('content')`\n",
    "\n",
    "The write() method writes the specified content to the file.\n",
    "\n",
    "`file.writelines(['content1', 'content2'])`\n",
    "\n",
    "The writelines() method writes a list of strings to the file."
   ]
  },
  {
   "cell_type": "code",
   "execution_count": 1,
   "metadata": {},
   "outputs": [
    {
     "name": "stdout",
     "output_type": "stream",
     "text": [
      "Shall I compare thee to a summer's day?\n",
      "Thou art more lovely and more temperate:\n",
      "Rough winds do shake the darling buds of May,\n",
      "And summer's lease hath all too short a date:\n",
      "Sometime too hot the eye of heaven shines,\n",
      "And often is his gold complexion dimm'd;\n",
      "And every fair from fair sometime declines,\n",
      "By chance or nature's changing course untrimm'd;\n",
      "But thy eternal summer shall not fade\n",
      "Nor lose possession of that fair thou owest;\n",
      "Nor shall Death brag thou wanderest in his shade,\n",
      "When in eternal lines to time thou growest:\n",
      "So long lives this, and this gives life to thee."
     ]
    }
   ],
   "source": [
    "sonnet = \"\"\"Shall I compare thee to a summer's day?\n",
    "Thou art more lovely and more temperate:\n",
    "Rough winds do shake the darling buds of May,\n",
    "And summer's lease hath all too short a date:\n",
    "Sometime too hot the eye of heaven shines,\n",
    "And often is his gold complexion dimm'd;\n",
    "And every fair from fair sometime declines,\n",
    "By chance or nature's changing course untrimm'd;\n",
    "But thy eternal summer shall not fade\n",
    "Nor lose possession of that fair thou owest;\n",
    "Nor shall Death brag thou wanderest in his shade,\n",
    "When in eternal lines to time thou growest:\n",
    "\"\"\"\n",
    "\n",
    "# open a file for writing\n",
    "f = open(\"sonnet18.txt\", \"w\")\n",
    "f.write(sonnet)\n",
    "f.close()\n",
    "\n",
    "# open a file for reading\n",
    "# f = open(\"sonnet18.txt\", \"r\")\n",
    "# print(f.read())\n",
    "# f.close()\n",
    "\n",
    "# Files can be automatically closed using the with statement\n",
    "# This is the preferred way to work with files.\n",
    "# The file is automatically closed when the block is exited.\n",
    "# The `a` mode opens the file for appending.\n",
    "with open(\"sonnet18.txt\", \"a\") as f:\n",
    "    f.write(\"So long lives this, and this gives life to thee.\")\n",
    "\n",
    "# process file line by line\n",
    "with open(\"sonnet18.txt\", \"r\") as f:\n",
    "    for line in f: # f is an iterable(like a list) of lines\n",
    "        print(line, end=\"\") # end=\"\" prevents extra newline"
   ]
  },
  {
   "cell_type": "code",
   "execution_count": 2,
   "metadata": {},
   "outputs": [
    {
     "name": "stdout",
     "output_type": "stream",
     "text": [
      "Average age of students is: 23.1\n"
     ]
    }
   ],
   "source": [
    "# Lets write a CSV file containing student data\n",
    "# CSV stands for Comma Separated Values, a common format for storing data\n",
    "# in a tabular form. Each line in a CSV file represents a row in the table,\n",
    "# and the columns are separated by commas.\n",
    "import csv\n",
    "\n",
    "# list of tuples containing student data\n",
    "students = [\n",
    "    (\"Abiira\", 23, \"M\"),\n",
    "    (\"Aisha\", 22, \"F\"),\n",
    "    (\"Kato\", 24, \"M\"),\n",
    "    (\"Nakato\", 23, \"F\"),\n",
    "    (\"Sekandi\", 25, \"M\"),\n",
    "    (\"Namatovu\", 22, \"F\"),\n",
    "    (\"Kasirye\", 23, \"M\"),\n",
    "    (\"Nakayima\", 24, \"F\"),\n",
    "    (\"Kasule\", 23, \"M\"),\n",
    "    (\"Nakasujja\", 22, \"F\"),\n",
    "]\n",
    "\n",
    "# open the file in write mode\n",
    "with open(\"data.csv\", \"w\") as f:\n",
    "    writer = csv.writer(f)\n",
    "    # write the header\n",
    "    writer.writerow([\"Name\", \"Age\", \"Sex\"])\n",
    "\n",
    "    # write the data\n",
    "    for student in students:\n",
    "        writer.writerow(student)\n",
    "\n",
    "# At this point, you should have a file called data.csv in your working directory\n",
    "# with the following content:\n",
    "# Name,Age,Sex\n",
    "# Abiira,23,M\n",
    "# Aisha,22,F\n",
    "# Kato,24,M\n",
    "# Nakato,23,F\n",
    "# Sekandi,25,M\n",
    "# Namatovu,22,F\n",
    "# Kasirye,23,M\n",
    "# Nakayima,24,F\n",
    "# Kasule,23,M\n",
    "# Nakasujja,22,F\n",
    "\n",
    "# Lets read the data back and compute the average age of the students\n",
    "with open(\"data.csv\", \"r\") as f:\n",
    "    reader = csv.reader(f)\n",
    "    next(reader) # skip the header\n",
    "\n",
    "    total_age = 0\n",
    "    num_students = 0\n",
    "    for row in reader:\n",
    "        age = int(row[1])\n",
    "        total_age += age\n",
    "        num_students += 1\n",
    "\n",
    "    average_age = total_age / num_students\n",
    "    print(\"Average age of students is:\", average_age)\n",
    "\n"
   ]
  },
  {
   "cell_type": "markdown",
   "metadata": {},
   "source": [
    "# Pandas for reading CSV files\n",
    "# This time we use pandas just to show how easy it is to work with data using pandas\n",
    "\n",
    "Uncomment the following line to install pandas\n",
    "\n",
    "```python\n",
    "import pandas as pd\n",
    "\n",
    "# read the data into a pandas DataFrame\n",
    "df = pd.read_csv(\"data.csv\")\n",
    "print(df)\n",
    "\n",
    "# compute the average age\n",
    "average_age = df[\"Age\"].mean()\n",
    "print(\"Average age of students is:\", average_age)\n",
    "```"
   ]
  },
  {
   "cell_type": "code",
   "execution_count": 4,
   "metadata": {},
   "outputs": [
    {
     "name": "stdout",
     "output_type": "stream",
     "text": [
      "        Name  Age Sex\n",
      "0     Abiira   23   M\n",
      "1      Aisha   22   F\n",
      "2       Kato   24   M\n",
      "3     Nakato   23   F\n",
      "4    Sekandi   25   M\n",
      "5   Namatovu   22   F\n",
      "6    Kasirye   23   M\n",
      "7   Nakayima   24   F\n",
      "8     Kasule   23   M\n",
      "9  Nakasujja   22   F\n",
      "Average age of students is: 23.1\n",
      "Standard deviation of student ages is: 0.9944289260117533\n",
      "             Age\n",
      "count  10.000000\n",
      "mean   23.100000\n",
      "std     0.994429\n",
      "min    22.000000\n",
      "25%    22.250000\n",
      "50%    23.000000\n",
      "75%    23.750000\n",
      "max    25.000000\n"
     ]
    }
   ],
   "source": [
    "import pandas as pd\n",
    "\n",
    "# read the data into a pandas DataFrame\n",
    "df = pd.read_csv(\"data.csv\")\n",
    "print(df)\n",
    "\n",
    "# compute the average age\n",
    "average_age = df[\"Age\"].mean()\n",
    "print(\"Average age of students is:\", average_age)\n",
    "\n",
    "std_dev = df[\"Age\"].std()\n",
    "print(\"Standard deviation of student ages is:\", std_dev)\n",
    "\n",
    "print(df.describe())"
   ]
  },
  {
   "cell_type": "code",
   "execution_count": 5,
   "metadata": {},
   "outputs": [
    {
     "name": "stdout",
     "output_type": "stream",
     "text": [
      "Average age of students is: 23.1\n"
     ]
    }
   ],
   "source": [
    "## Lets write a JSON file containing the same student data\n",
    "import json\n",
    "\n",
    "# open the file in write mode\n",
    "with open(\"data.json\", \"w\") as f:\n",
    "    json.dump(students, f)\n",
    "\n",
    "# At this point, you should have a file called data.json in your working directory\n",
    "# with the following content:\n",
    "# [[\"Abiira\", 23, \"M\"], [\"Aisha\", 22, \"F\"], [\"Kato\", 24, \"M\"], [\"Nakato\", 23, \"F\"], [\"Sekandi\", 25, \"M\"], [\"Namatovu\", 22, \"F\"], [\"Kasirye\", 23, \"M\"], [\"Nakayima\", 24, \"F\"], [\"Kasule\", 23, \"M\"], [\"Nakasujja\", 22, \"F\"]]\n",
    "\n",
    "# Lets read the data back and compute the average age of the students\n",
    "with open(\"data.json\", \"r\") as f:\n",
    "    students = json.load(f)\n",
    "\n",
    "total_age = 0\n",
    "num_students = 0\n",
    "for student in students:\n",
    "    total_age += student[1]\n",
    "    num_students += 1\n",
    "\n",
    "average_age = total_age / num_students\n",
    "print(\"Average age of students is:\", average_age)"
   ]
  },
  {
   "cell_type": "markdown",
   "metadata": {},
   "source": [
    "# Network IO\n",
    "\n",
    "Python provides several modules for working with the network. The most commonly used modules are `socket` and `requests`. The `socket` module provides low-level networking interface, while the `requests` module provides high-level networking interface.\n",
    "\n",
    "## Fetching data from the internet\n",
    "    \n",
    "```python\n",
    "import requests\n",
    "\n",
    "# fetch data from the internet\n",
    "response = requests.get(\"https://jsonplaceholder.typicode.com/posts/1\")\n",
    "\n",
    "# convert the response to JSON\n",
    "data = response.json()\n",
    "\n",
    "print(data)\n",
    "```\n",
    "\n",
    "\n"
   ]
  },
  {
   "cell_type": "code",
   "execution_count": 18,
   "metadata": {},
   "outputs": [
    {
     "name": "stdout",
     "output_type": "stream",
     "text": [
      "{'body': 'quia et suscipit\\n'\n",
      "         'suscipit recusandae consequuntur expedita et cum\\n'\n",
      "         'reprehenderit molestiae ut ut quas totam\\n'\n",
      "         'nostrum rerum est autem sunt rem eveniet architecto',\n",
      " 'id': 1,\n",
      " 'title': 'sunt aut facere repellat provident occaecati excepturi optio '\n",
      "          'reprehenderit',\n",
      " 'userId': 1}\n"
     ]
    }
   ],
   "source": [
    "import requests\n",
    "from pprint import pprint\n",
    "\n",
    "# fetch data from the internet\n",
    "response = requests.get(\"https://jsonplaceholder.typicode.com/posts/1\")\n",
    "\n",
    "# convert the response to JSON\n",
    "data = response.json()\n",
    "\n",
    "# pretty-print the data\n",
    "pprint(data)"
   ]
  },
  {
   "cell_type": "code",
   "execution_count": null,
   "metadata": {},
   "outputs": [],
   "source": []
  }
 ],
 "metadata": {
  "kernelspec": {
   "display_name": ".venv",
   "language": "python",
   "name": "python3"
  },
  "language_info": {
   "codemirror_mode": {
    "name": "ipython",
    "version": 3
   },
   "file_extension": ".py",
   "mimetype": "text/x-python",
   "name": "python",
   "nbconvert_exporter": "python",
   "pygments_lexer": "ipython3",
   "version": "3.12.3"
  }
 },
 "nbformat": 4,
 "nbformat_minor": 2
}
