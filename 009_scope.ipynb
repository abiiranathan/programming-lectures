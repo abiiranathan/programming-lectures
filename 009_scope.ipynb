{
 "cells": [
  {
   "cell_type": "markdown",
   "metadata": {},
   "source": [
    "# Scope in Python\n",
    "\n",
    "## Introduction\n",
    "Scope is the region of the program where a variable is recognized. Parameters and variables defined inside a function are not visible from outside the function. Hence, they have a `local` scope.\n",
    "\n",
    "A variable declared outside a function has a `global` scope. Global variables are visible from within a function and the whole program. They are also visible from one module to another.\n",
    "\n",
    "## Local Scope\n",
    "A variable declared inside a function has a local scope. It is accessible from the point at which it is declared until the end of the function.\n",
    "\n",
    "Example:\n",
    "```python\n",
    "def myfunc():\n",
    "  x = 300\n",
    "  print(x)\n",
    "\n",
    "myfunc()\n",
    "```\n",
    "In the example above, the variable `x` is local to the `myfunc()` function. It is not accessible outside of the function.\n",
    "\n",
    "## Global Scope\n",
    "A variable declared outside a function has a global scope. It is accessible throughout the program.\n",
    "\n",
    "Example:\n",
    "```python\n",
    "DEBUG = True\n",
    "\n",
    "def myfunc():\n",
    "  if DEBUG:\n",
    "    print('Debugging is on')\n",
    "\n",
    "myfunc()\n",
    "```\n",
    "In the example above, the variable `DEBUG` has a global scope. It is accessible from anywhere in the program.\n",
    "\n",
    "## Global Keyword\n",
    "If you need to create a global variable, but are stuck in the local scope, you can use the `global` keyword. The `global` keyword makes the variable global.\n",
    "\n",
    "Example:\n",
    "```python\n",
    "def myfunc():\n",
    "  global x\n",
    "  x = 300\n",
    "\n",
    "myfunc()\n",
    "\n",
    "print(x)\n",
    "```\n",
    "In the example above, the variable `x` is a global variable. It can be accessed from within the `myfunc()` function and outside of it."
   ]
  },
  {
   "cell_type": "code",
   "execution_count": null,
   "metadata": {},
   "outputs": [],
   "source": [
    "def myfunc():\n",
    "  global x\n",
    "  x = 300\n",
    "\n",
    "myfunc()\n",
    "\n",
    "print(x)"
   ]
  },
  {
   "cell_type": "markdown",
   "metadata": {},
   "source": [
    "## Nonlocal Keyword\n",
    "If you want to modify a variable that is outside the local scope, but not in the global scope, you can use the `nonlocal` keyword.\n",
    "\n",
    "Example:\n",
    "```python\n",
    "def myfunc1():\n",
    "  x = 300\n",
    "  def myfunc2():\n",
    "    nonlocal x\n",
    "    x = 200\n",
    "  myfunc2()\n",
    "  print(x)\n",
    "\n",
    "myfunc1()\n",
    "```\n",
    "In the example above, the variable `x` is a nonlocal variable. It can be accessed from `myfunc2()`, but it is not a global variable.\n",
    "\n"
   ]
  },
  {
   "cell_type": "code",
   "execution_count": null,
   "metadata": {},
   "outputs": [],
   "source": [
    "def myfunc1():\n",
    "  x = 300\n",
    "  def myfunc2():\n",
    "    nonlocal x\n",
    "    x = 200\n",
    "  myfunc2()\n",
    "  print(x)\n",
    "\n",
    "myfunc1()"
   ]
  },
  {
   "cell_type": "markdown",
   "metadata": {},
   "source": [
    "## The `locals()` Function\n",
    "The `locals()` function returns an updated dictionary of the current local symbol table.\n"
   ]
  },
  {
   "cell_type": "code",
   "execution_count": null,
   "metadata": {},
   "outputs": [],
   "source": [
    "def myfunc():\n",
    "  x = 300\n",
    "  y=200\n",
    "  z=100\n",
    "  print(locals())\n",
    "\n",
    "myfunc()"
   ]
  },
  {
   "cell_type": "markdown",
   "metadata": {},
   "source": [
    "### The `globals()` Function\n",
    "\n",
    "The `globals()` function returns the current global symbol table as a dictionary."
   ]
  },
  {
   "cell_type": "code",
   "execution_count": null,
   "metadata": {},
   "outputs": [],
   "source": [
    "x = 300\n",
    "y = 200\n",
    "z = 100\n",
    "\n",
    "globalItems = globals().items()\n",
    "for key, value in globalItems:\n",
    "  print(key, \":\", value)"
   ]
  },
  {
   "cell_type": "markdown",
   "metadata": {},
   "source": [
    "Note that `globals()` does not contain only global variables. It contains all global names, including function definitions, class definitions, and imported modules, built-in names, and variables. Run the above code to see the output."
   ]
  },
  {
   "cell_type": "markdown",
   "metadata": {},
   "source": [
    "# Conclusion\n",
    "In this notebook, we learned about the scope in Python. We learned about local, global, and nonlocal scopes. We also learned about the `global` and `nonlocal` keywords. Finally, we learned about the `locals()` and `globals()` functions.\n",
    "\n",
    "Scope controls the visibility of variables in a program. Understanding scope is important for writing clean and maintainable code."
   ]
  }
 ],
 "metadata": {
  "kernelspec": {
   "display_name": ".venv",
   "language": "python",
   "name": "python3"
  },
  "language_info": {
   "codemirror_mode": {
    "name": "ipython",
    "version": 3
   },
   "file_extension": ".py",
   "mimetype": "text/x-python",
   "name": "python",
   "nbconvert_exporter": "python",
   "pygments_lexer": "ipython3",
   "version": "3.12.3"
  }
 },
 "nbformat": 4,
 "nbformat_minor": 2
}
