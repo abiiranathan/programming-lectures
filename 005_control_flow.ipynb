{
 "cells": [
  {
   "cell_type": "markdown",
   "metadata": {},
   "source": [
    "# Control flow\n",
    "\n",
    "Control flow is the order in which the computer executes statements in a program. In this notebook, we will learn about control flow statements in Python.\n",
    "\n",
    "## If statement\n",
    "\n",
    "The `if` statement is used to execute a block of code only if a specified condition is `True`. Here is the syntax of the `if` statement:\n",
    "\n",
    "```python\n",
    "if condition:\n",
    "    # code to be executed if the condition is True\n",
    "```\n",
    "All statements in python are indented by 4 spaces. The code block starts with an indentation and ends with the first unindented line. The `if` statement evaluates the `condition` inside the parenthesis and executes the code block only if the condition is `True`.\n",
    "\n",
    "Let's see an example of the `if` statement."
   ]
  },
  {
   "cell_type": "code",
   "execution_count": 2,
   "metadata": {},
   "outputs": [],
   "source": [
    "age = 10\n",
    "\n",
    "if age >= 18:\n",
    "    print(\"You are eligible to vote.\")"
   ]
  },
  {
   "cell_type": "markdown",
   "metadata": {},
   "source": [
    "If-else statement\n",
    "\n",
    "The `if-else` statement is used to execute a block of code if the condition is `True` and another block of code if the condition is `False`. Here is the syntax of the `if-else` statement:\n",
    "\n",
    "```python\n",
    "if condition:\n",
    "    # code to be executed if the condition is True\n",
    "else:\n",
    "    # code to be executed if the condition is False\n",
    "```"
   ]
  },
  {
   "cell_type": "code",
   "execution_count": 5,
   "metadata": {},
   "outputs": [
    {
     "name": "stdout",
     "output_type": "stream",
     "text": [
      "You are eligible to vote.\n"
     ]
    }
   ],
   "source": [
    "age = 30\n",
    "canVote = age >= 18\n",
    "\n",
    "if canVote:\n",
    "    print(\"You are eligible to vote.\")\n",
    "else:\n",
    "    print(\"You are a minor. You are not eligible to vote yet!\")"
   ]
  },
  {
   "cell_type": "markdown",
   "metadata": {},
   "source": [
    "## If-elif-else statement\n",
    "\n",
    "The `if-elif-else` statement is used to execute one block of code from multiple conditions. Here is the syntax of the `if-elif-else` statement:\n",
    "\n",
    "```python\n",
    "if condition1:\n",
    "    # code to be executed if condition1 is True\n",
    "elif condition2:\n",
    "    # code to be executed if condition2 is True\n",
    "else:\n",
    "    # code to be executed if both condition1 and condition2 are False\n",
    "```"
   ]
  },
  {
   "cell_type": "code",
   "execution_count": 10,
   "metadata": {},
   "outputs": [
    {
     "name": "stdout",
     "output_type": "stream",
     "text": [
      "go to the movies\n"
     ]
    }
   ],
   "source": [
    "\n",
    "age = 16\n",
    "\n",
    "if age >= 20:\n",
    "    print(\"go to the bar. You are old enough\")\n",
    "elif age >= 18:\n",
    "    print(\"go to the club and have fun\")\n",
    "elif age >= 16:\n",
    "    print(\"go to the movies\")\n",
    "else:\n",
    "    print(\"go to the park and play\")"
   ]
  },
  {
   "cell_type": "code",
   "execution_count": 12,
   "metadata": {},
   "outputs": [],
   "source": [
    "# Similarity check with is\n",
    "\n",
    "grade = None\n",
    "\n",
    "if grade is None:\n",
    "    print(\"No grade is assigned yet\")\n",
    "    \n"
   ]
  },
  {
   "cell_type": "markdown",
   "metadata": {},
   "source": [
    "# Grade calculator\n",
    "\n",
    "Let's write a program that calculates the grade of a student based on the marks obtained. The program will take the marks as input and display the grade as output. The grading criteria are as follows:\n",
    "\n",
    "- 90-100: A+\n",
    "- 80-89: A\n",
    "- 70-79: B\n",
    "- 60-69: C\n",
    "- 50-59: D\n",
    "- 0-49: F\n",
    "- Marks > 100 or < 0: Invalid marks\n",
    "- Marks should be between 0 and 100\n",
    "- Marks should be a number(integer or float)\n"
   ]
  },
  {
   "cell_type": "code",
   "execution_count": 14,
   "metadata": {},
   "outputs": [
    {
     "name": "stdout",
     "output_type": "stream",
     "text": [
      "A+\n"
     ]
    }
   ],
   "source": [
    "# Prompt user to enter their marks\n",
    "# input function always returns a string\n",
    "marks = input(\"Enter your marks: \")\n",
    "\n",
    "# Convert the input to an floating point number\n",
    "# Converting to integer will raise a value error if the user enters a floating point number\n",
    "# Also marks can be a floating point number e.g. 45.5\n",
    "\n",
    "try:\n",
    "    marks = float(marks)\n",
    "except ValueError: # This block will run if the try block fails\n",
    "    print(\"Invalid input. Please enter a number.\")\n",
    "else: # This block will run if the try block runs successfully\n",
    "    # Make sure the marks is between 0 and 100\n",
    "    if marks < 0 or marks > 100:\n",
    "        print(\"Invalid input. Please enter a number between 0 and 100.\")\n",
    "\n",
    "# Check the grade\n",
    "if marks >= 90:\n",
    "    print(\"A+\")\n",
    "elif marks >= 80:\n",
    "    print(\"A\")\n",
    "elif marks >= 70:\n",
    "    print(\"B\")\n",
    "elif marks >= 60:\n",
    "    print(\"C\")\n",
    "elif marks >= 50:\n",
    "    print(\"D\")\n",
    "else:\n",
    "    print(\"F\")"
   ]
  },
  {
   "cell_type": "markdown",
   "metadata": {},
   "source": [
    "## Second program\n",
    "\n",
    "In this program, we store a dictionary of students and their marks. The program takes the student's name as input and displays the grade based on the marks obtained by the student. If the student's name is not found in the dictionary, the program displays a message that the student is not found.\n",
    "\n",
    "The program also displays the total number of students and the average marks of all students,\n",
    "and orders the students based on their marks in descending order. Then we display the student's name, marks, and grade in descending order of marks.\n",
    "\n",
    "Let's write the program."
   ]
  },
  {
   "cell_type": "code",
   "execution_count": 15,
   "metadata": {},
   "outputs": [
    {
     "name": "stdout",
     "output_type": "stream",
     "text": [
      "Aine scored 55 and got a grade of D\n",
      "Number of students: 11\n",
      "\n",
      "------------------------------\n",
      "| Student    | Marks |Grade |\n",
      "------------------------------\n",
      "| Nathan     |   100 |   A+ |\n",
      "| Kevin      |    95 |   A+ |\n",
      "| John       |    90 |   A+ |\n",
      "| Musa       |    88 |    A |\n",
      "| Jane       |    80 |    A |\n",
      "| Dianah     |    78 |    B |\n",
      "| Stella     |    75 |    B |\n",
      "| Smith      |    60 |    C |\n",
      "| Aine       |    55 |    D |\n",
      "| Doe        |    50 |    D |\n",
      "| Moses      |    40 |    F |\n",
      "------------------------------\n"
     ]
    }
   ],
   "source": [
    "# Students dictionary with their marks\n",
    "students = {\n",
    "    \"John\": 90,\n",
    "    \"Jane\": 80,\n",
    "    \"Doe\": 70,\n",
    "    \"Smith\": 60,\n",
    "    \"Doe\": 50,\n",
    "    \"Dianah\": 78,\n",
    "    \"Kevin\": 95,\n",
    "    \"Moses\": 40,\n",
    "    \"Musa\": 88,\n",
    "    \"Stella\": 75,\n",
    "    \"Nathan\": 100,\n",
    "    \"Aine\": 55,\n",
    "}\n",
    "\n",
    "def get_grade(marks):\n",
    "    if marks >= 90:\n",
    "        return \"A+\"\n",
    "    elif marks >= 80:\n",
    "        return \"A\"\n",
    "    elif marks >= 70:\n",
    "        return \"B\"\n",
    "    elif marks >= 60:\n",
    "        return \"C\"\n",
    "    elif marks >= 50:\n",
    "        return \"D\"\n",
    "    else:\n",
    "        return \"F\"\n",
    "\n",
    "# prompt for the student name\n",
    "student_name = input(\"Enter student name: \")\n",
    "# student_name = \"Nathan\"\n",
    "\n",
    "# Check if the student is in the dictionary\n",
    "if student_name in students:\n",
    "    marks = students[student_name]\n",
    "    grade = get_grade(marks)\n",
    "    print(f\"{student_name} scored {marks} and got a grade of {grade}\")\n",
    "else:\n",
    "    print(f\"{student_name} is not in the list of students.\")\n",
    "\n",
    "# Count the number of students\n",
    "num_students = len(students)\n",
    "print(f\"Number of students: {num_students}\")\n",
    "\n",
    "# Sort the students by their marks\n",
    "# This is advanced and will be covered in the future when we cover lambda functions\n",
    "# and iterators.\n",
    "# For now, just understand that this code will sort the students by their marks\n",
    "# and print them in descending order\n",
    "sorted_students = sorted(students.items(), key=lambda x: x[1], reverse=True)\n",
    "\n",
    "# Print the students and their grades in a table\n",
    "line_width = 30\n",
    "print()\n",
    "print(\"-\" * line_width)\n",
    "print(\"| {:<10} |{:>6} |{:>5} |\".format(\"Student\", \"Marks\", \"Grade\"))\n",
    "print(\"-\" * line_width)\n",
    "for student, marks in sorted_students:\n",
    "    print(\"| {:<10} | {:>5} |{:>5} |\".format(student, marks, get_grade(marks)))\n",
    "print(\"-\" * line_width)\n"
   ]
  },
  {
   "cell_type": "code",
   "execution_count": null,
   "metadata": {},
   "outputs": [],
   "source": []
  }
 ],
 "metadata": {
  "kernelspec": {
   "display_name": ".venv",
   "language": "python",
   "name": "python3"
  },
  "language_info": {
   "codemirror_mode": {
    "name": "ipython",
    "version": 3
   },
   "file_extension": ".py",
   "mimetype": "text/x-python",
   "name": "python",
   "nbconvert_exporter": "python",
   "pygments_lexer": "ipython3",
   "version": "3.12.3"
  }
 },
 "nbformat": 4,
 "nbformat_minor": 2
}
