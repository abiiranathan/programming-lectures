{
 "cells": [
  {
   "cell_type": "markdown",
   "metadata": {},
   "source": [
    "# builtins\n",
    "\n",
    "Python has a number of built-in functions that are always available. Some of them are used in this notebook. Here is a list of the most important ones:\n",
    "\n",
    "- `abs()`: returns the absolute value of a number.\n",
    "- `all()`: returns `True` if all elements of an iterable are true.\n",
    "- `any()`: returns `True` if any element of an iterable is true.\n",
    "- `bin()`: converts an integer number to a binary string.\n",
    "- `bool()`: converts a value to a Boolean.\n",
    "- `bytearray()`: returns a bytearray object.\n",
    "- `bytes()`: returns a bytes object.\n",
    "- `callable()`: returns `True` if the object argument appears callable.\n",
    "- `chr()`: returns a character (a string) from an integer (represents a Unicode code point of the character).\n",
    "- `classmethod()`: returns a class method for a function.\n",
    "- `compile()`: compiles the source into a code or AST object.\n",
    "- `complex()`: returns a complex number.\n",
    "- `list()`: returns a list.\n",
    "- `dict()`: returns a dictionary.\n",
    "- `dir()`: returns a list of the specified object's properties and methods.\n",
    "- `divmod()`: returns the quotient and the remainder when dividing two numbers.\n",
    "- `enumerate()`: takes a collection (e.g. a tuple) and returns it as an enumerate object.\n",
    "- `eval()`: evaluates and executes an expression.\n",
    "- `exec()`: executes the specified Python code.\n",
    "- `filter()`: constructs an iterator from elements of an iterable for which a function returns true.\n",
    "- `float()`: returns a floating-point number.\n",
    "- `format()`: formats a specified value.\n",
    "- `frozenset()`: returns a frozenset object.\n",
    "- `getattr()`: returns the value of the specified attribute (property or method) of the specified object.\n",
    "- `globals()`: returns the current global symbol table as a dictionary.\n",
    "- `hasattr()`: returns `True` if the specified object has the specified attribute (property/method).\n",
    "- `hash()`: returns the hash value of a specified object.\n",
    "- `help()`: executes the built-in help system.\n",
    "- `hex()`: converts an integer number to a lowercase hexadecimal string.\n",
    "\n",
    "See the [full list of built-in functions](https://docs.python.org/3/library/functions.html) in the Python documentation."
   ]
  }
 ],
 "metadata": {
  "language_info": {
   "name": "python"
  }
 },
 "nbformat": 4,
 "nbformat_minor": 2
}
