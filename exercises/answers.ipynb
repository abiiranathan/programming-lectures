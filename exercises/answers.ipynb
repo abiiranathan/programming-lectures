{
 "cells": [
  {
   "cell_type": "markdown",
   "metadata": {},
   "source": [
    "# Answers to Questions(1 -51)\n",
    "\n",
    "The answers to the exercises 52 - 100 are not provided in this course and are left as an exercise for the reader.\n",
    "\n",
    "The questions are in the [./exercises.md](./exercises.md) file and are not repeated here for brevity.\n"
   ]
  },
  {
   "cell_type": "markdown",
   "metadata": {},
   "source": [
    "Question 1\n"
   ]
  },
  {
   "cell_type": "code",
   "execution_count": null,
   "metadata": {},
   "outputs": [],
   "source": [
    "def sum_of_numbers(numbers):\n",
    "    \"\"\"Calculates the sum of a list of numbers.\"\"\"\n",
    "    total = 0\n",
    "    for number in numbers:\n",
    "        total += number\n",
    "    return total\n",
    "\n",
    "\n",
    "# Example usage\n",
    "numbers = [1, 2, 3, 4, 5]\n",
    "print(sum_of_numbers(numbers))  # Output: 15\n",
    "\n",
    "# of course the sum function can be used to do the\n",
    "# same thing\n",
    "print(sum(numbers))  # Output: 15"
   ]
  },
  {
   "cell_type": "markdown",
   "metadata": {},
   "source": [
    "Question 2\n"
   ]
  },
  {
   "cell_type": "code",
   "execution_count": null,
   "metadata": {},
   "outputs": [],
   "source": [
    "def average_of_numbers(numbers):\n",
    "    \"\"\"Calculates the average of a list of numbers.\"\"\"\n",
    "    if not numbers:\n",
    "        return 0  # Avoid division by zero for empty lists\n",
    "    return sum(numbers) / len(numbers)\n",
    "\n",
    "\n",
    "numbers = [1, 2, 3, 4, 5]\n",
    "print(average_of_numbers(numbers))  # Output: 3.0\n",
    "\n",
    "# The statistics module provides a function to\n",
    "# calculate the mean\n",
    "import statistics\n",
    "\n",
    "print(statistics.mean(numbers))  # Output: 3"
   ]
  },
  {
   "cell_type": "markdown",
   "metadata": {},
   "source": [
    "Question 3\n"
   ]
  },
  {
   "cell_type": "code",
   "execution_count": null,
   "metadata": {},
   "outputs": [],
   "source": [
    "def max_of_numbers(numbers):\n",
    "    \"\"\"Finds the maximum value in a list of numbers.\"\"\"\n",
    "    return max(numbers)\n",
    "\n",
    "\n",
    "# Example usage\n",
    "numbers = [1, 5, 2, 4, 3]\n",
    "print(max_of_numbers(numbers))  # Output: 5\n",
    "\n",
    "\n",
    "# A more naive way to do this is to sort the list\n",
    "# and return the last element but this is not\n",
    "# recommended as it is less efficient.\n",
    "def max_of_numbers(numbers):\n",
    "    \"\"\"Finds the maximum value in a list of numbers.\"\"\"\n",
    "    numbers.sort()\n",
    "    return numbers[-1]\n",
    "\n",
    "\n",
    "print(max_of_numbers(numbers))  # Output: 5"
   ]
  },
  {
   "cell_type": "markdown",
   "metadata": {},
   "source": [
    "Question 4\n"
   ]
  },
  {
   "cell_type": "code",
   "execution_count": null,
   "metadata": {},
   "outputs": [],
   "source": [
    "squares = [x**2 for x in range(1, 11)]\n",
    "print(squares)  # Output: [1, 4, 9, 16, 25, 36, 49, 64, 81, 100]"
   ]
  },
  {
   "cell_type": "markdown",
   "metadata": {},
   "source": [
    "Question 5\n"
   ]
  },
  {
   "cell_type": "code",
   "execution_count": null,
   "metadata": {},
   "outputs": [],
   "source": [
    "from collections import Counter\n",
    "\n",
    "\n",
    "def median_and_mode(numbers):\n",
    "    \"\"\"Calculates the median and mode of a list of numbers.\"\"\"\n",
    "    sorted_numbers = sorted(numbers)\n",
    "    n = len(numbers)\n",
    "    median = (\n",
    "        sorted_numbers[n // 2]\n",
    "        if n % 2 == 1\n",
    "        else (sorted_numbers[n // 2 - 1] + sorted_numbers[n // 2]) / 2\n",
    "    )\n",
    "\n",
    "    counts = Counter(numbers)\n",
    "    mode = counts.most_common(1)[0][0]  # Extract the most frequent element\n",
    "\n",
    "    return median, mode\n",
    "\n",
    "\n",
    "numbers = [1, 2, 2, 3, 4, 5, 6, 2, 2, 9, 9]\n",
    "median, mode = median_and_mode(numbers)\n",
    "print(\"Median:\", median)  # Output: 3\n",
    "print(\"Mode:\", mode)  # Output: 2\n",
    "\n",
    "# The statistics module provides functions to calculate\n",
    "# the median and mode\n",
    "import statistics\n",
    "\n",
    "print(statistics.median(numbers))  # Output: 3\n",
    "print(statistics.mode(numbers))  # Output: 2"
   ]
  },
  {
   "cell_type": "markdown",
   "metadata": {},
   "source": [
    "Question 6\n"
   ]
  },
  {
   "cell_type": "code",
   "execution_count": null,
   "metadata": {},
   "outputs": [],
   "source": [
    "def reverse_string(text):\n",
    "    \"\"\"Reverses a given string.\"\"\"\n",
    "    return text[::-1]\n",
    "\n",
    "\n",
    "text = \"Python\"\n",
    "print(reverse_string(text))  # Output: nohtyP\n",
    "\n",
    "# Alternatively, you can use the reversed function\n",
    "# The first approach is more efficient\n",
    "print(\"\".join(reversed(text)))  # Output: nohtyP"
   ]
  },
  {
   "cell_type": "markdown",
   "metadata": {},
   "source": [
    "Question 7\n"
   ]
  },
  {
   "cell_type": "code",
   "execution_count": null,
   "metadata": {},
   "outputs": [],
   "source": [
    "def is_palindrome(text):\n",
    "    \"\"\"Checks if a string is a palindrome.\"\"\"\n",
    "    text = text.lower().replace(\" \", \"\")  # Case-insensitive and ignore spaces\n",
    "    return text == text[::-1]\n",
    "\n",
    "\n",
    "# Example usage\n",
    "text1 = \"Racecar\"\n",
    "text2 = \"Python\"\n",
    "print(is_palindrome(text1))  # Output: True\n",
    "print(is_palindrome(text2))  # Output: False"
   ]
  },
  {
   "cell_type": "markdown",
   "metadata": {},
   "source": [
    "Question 8\n"
   ]
  },
  {
   "cell_type": "code",
   "execution_count": null,
   "metadata": {},
   "outputs": [],
   "source": [
    "def common_elements(list1, list2):\n",
    "    \"\"\"Returns a list of common elements from two lists (no duplicates).\"\"\"\n",
    "\n",
    "    # Use the set intersection method to find common elements\n",
    "    return list(set(list1) & set(list2))\n",
    "\n",
    "\n",
    "list1 = [1, 2, 3, 4, 5]\n",
    "list2 = [3, 5, 6, 7, 8]\n",
    "\n",
    "print(common_elements(list1, list2))  # Output: [3, 5]"
   ]
  },
  {
   "cell_type": "markdown",
   "metadata": {},
   "source": [
    "Question 9\n"
   ]
  },
  {
   "cell_type": "code",
   "execution_count": null,
   "metadata": {},
   "outputs": [],
   "source": [
    "def dedupe(data):\n",
    "    \"\"\"Removes duplicate elements from a list while preserving the order.\"\"\"\n",
    "    return list(set(data))\n",
    "\n",
    "\n",
    "# Example usage\n",
    "data = [1, 2, 2, 3, 4, 4, 5]\n",
    "print(dedupe(data))  # Output: [1, 2, 3, 4, 5]"
   ]
  },
  {
   "cell_type": "markdown",
   "metadata": {},
   "source": [
    "Question 10\n"
   ]
  },
  {
   "cell_type": "code",
   "execution_count": null,
   "metadata": {},
   "outputs": [],
   "source": [
    "def longest_word(words):\n",
    "    \"\"\"Finds the longest word in a list of words.\"\"\"\n",
    "    longest = \"\"\n",
    "    for word in words:\n",
    "        if len(word) > len(longest):\n",
    "            longest = word\n",
    "    return longest\n",
    "\n",
    "\n",
    "words = [\"apple\", \"banana\", \"cherry\", \"date\"]\n",
    "print(longest_word(words))  # Output: banana\n",
    "\n",
    "# The max function can also be used to find the longest word\n",
    "# In fact, this is the recommended way to do it\n",
    "print(max(words, key=len))  # Output: banana"
   ]
  },
  {
   "cell_type": "markdown",
   "metadata": {},
   "source": [
    "Question 11\n"
   ]
  },
  {
   "cell_type": "code",
   "execution_count": null,
   "metadata": {},
   "outputs": [],
   "source": [
    "def word_count(sentence):\n",
    "    \"\"\"Counts the occurrence of each word in a sentence.\"\"\"\n",
    "    words = sentence.lower().split()\n",
    "    counts = {}\n",
    "    for word in words:\n",
    "        if word in counts:\n",
    "            counts[word] += 1\n",
    "        else:\n",
    "            counts[word] = 1\n",
    "    return counts\n",
    "\n",
    "\n",
    "# Example usage\n",
    "sentence = \"This is a sentence, this is another sentence.\"\n",
    "print(word_count(sentence))\n",
    "\n",
    "# Alternatively, you can use the Counter class from the collections module\n",
    "# This is more efficient and concise\n",
    "from collections import Counter\n",
    "\n",
    "\n",
    "def word_count(sentence):\n",
    "    \"\"\"Counts the occurrence of each word in a sentence.\"\"\"\n",
    "    words = sentence.lower().split()\n",
    "    return dict(Counter(words))\n",
    "\n",
    "\n",
    "sentence = \"This is a sentence, this is another sentence.\"\n",
    "print(word_count(sentence))"
   ]
  },
  {
   "cell_type": "markdown",
   "metadata": {},
   "source": [
    "Question 12\n"
   ]
  },
  {
   "cell_type": "code",
   "execution_count": null,
   "metadata": {},
   "outputs": [],
   "source": [
    "def are_anagrams(str1, str2):\n",
    "    \"\"\"Checks if two strings are anagrams.\n",
    "    Anagrams are words or phrases that contain the same characters,\n",
    "    but in a different order.\n",
    "    \"\"\"\n",
    "    str1 = str1.lower().replace(\" \", \"\")\n",
    "    str2 = str2.lower().replace(\" \", \"\")\n",
    "    return sorted(str1) == sorted(str2)\n",
    "\n",
    "\n",
    "# Example usage\n",
    "print(are_anagrams(\"listen\", \"silent\"))  # Output: True\n",
    "print(are_anagrams(\"hello\", \"world\"))  # Output: False"
   ]
  },
  {
   "cell_type": "markdown",
   "metadata": {},
   "source": [
    "Question 13\n"
   ]
  },
  {
   "cell_type": "code",
   "execution_count": null,
   "metadata": {},
   "outputs": [],
   "source": [
    "def remove_vowels(string):\n",
    "    \"\"\"Removes vowels from a string.\"\"\"\n",
    "    vowels = \"aeiouAEIOU\"\n",
    "    no_vowels = \"\".join([char for char in string if char not in vowels])\n",
    "    return no_vowels\n",
    "\n",
    "\n",
    "# Example usage\n",
    "string = \"This is a string with vowels.\"\n",
    "print(remove_vowels(string))  # Output: Ths s s strng wth vwls.\n",
    "\n",
    "\n",
    "# Alternatively, you can use the translate method\n",
    "# This is more efficient and concise\n",
    "def remove_vowels(string):\n",
    "    \"\"\"Removes vowels from a string.\"\"\"\n",
    "    vowels = \"aeiouAEIOU\"\n",
    "    return string.translate(str.maketrans(\"\", \"\", vowels))\n",
    "\n",
    "\n",
    "print(remove_vowels(string))  # Output: Ths s s strng wth vwls."
   ]
  },
  {
   "cell_type": "markdown",
   "metadata": {},
   "source": [
    "Question 14\n"
   ]
  },
  {
   "cell_type": "code",
   "execution_count": null,
   "metadata": {},
   "outputs": [],
   "source": [
    "def filter_long_strings(strings, n):\n",
    "    \"\"\"Returns strings longer than 'n' characters from a list.\"\"\"\n",
    "    return [string for string in strings if len(string) > n]\n",
    "\n",
    "\n",
    "# Example usage\n",
    "strings = [\"apple\", \"banana\", \"cherry\", \"date\"]\n",
    "print(filter_long_strings(strings, 4))  # Output: ['apple', 'banana', 'cherry']\n",
    "\n",
    "\n",
    "# ======== Function Composition ========\n",
    "# The filter function can also be used to do this\n",
    "# However, the list comprehension approach is more readable\n",
    "# and recommended\n",
    "def filter_long_strings(strings, n):\n",
    "    \"\"\"Returns strings longer than 'n' characters from a list.\"\"\"\n",
    "    return list(filter(lambda string: len(string) > n, strings))\n",
    "\n",
    "\n",
    "print(filter_long_strings(strings, 4))  # Output: ['apple', 'banana', 'cherry']"
   ]
  },
  {
   "cell_type": "markdown",
   "metadata": {},
   "source": [
    "Question 15\n"
   ]
  },
  {
   "cell_type": "code",
   "execution_count": null,
   "metadata": {},
   "outputs": [],
   "source": [
    "def count_case(string):\n",
    "    \"\"\"Counts uppercase and lowercase letters in a string.\"\"\"\n",
    "    upper_count = 0\n",
    "    lower_count = 0\n",
    "    for char in string:\n",
    "        if char.isupper():\n",
    "            upper_count += 1\n",
    "        elif char.islower():\n",
    "            lower_count += 1\n",
    "    return upper_count, lower_count\n",
    "\n",
    "\n",
    "# Example usage\n",
    "string = \"This is a String.\"\n",
    "upper, lower = count_case(string)\n",
    "print(\"Uppercase:\", upper)  # Output: 2\n",
    "print(\"Lowercase:\", lower)  # Output: 12\n",
    "\n",
    "\n",
    "# Alternatively, you can use the sum function with a generator expression\n",
    "def count_case(string):\n",
    "    \"\"\"Counts uppercase and lowercase letters in a string.\"\"\"\n",
    "    upper = sum(1 for char in string if char.isupper())\n",
    "    lower = sum(1 for char in string if char.islower())\n",
    "    return upper, lower\n",
    "\n",
    "\n",
    "print(count_case(string))  # Output: (2, 12)"
   ]
  },
  {
   "cell_type": "markdown",
   "metadata": {},
   "source": [
    "Question 16 and 17 Combined\n"
   ]
  },
  {
   "cell_type": "code",
   "execution_count": null,
   "metadata": {},
   "outputs": [],
   "source": [
    "# Writing to the file\n",
    "with open(\"hello.txt\", \"w\") as file:\n",
    "    file.write(\"Hello, World!\")\n",
    "\n",
    "# Reading from the file\n",
    "with open(\"hello.txt\", \"r\") as file:\n",
    "    content = file.read()\n",
    "    print(content)  # Output: Hello, World!"
   ]
  },
  {
   "cell_type": "markdown",
   "metadata": {},
   "source": [
    "Question 18\n"
   ]
  },
  {
   "cell_type": "code",
   "execution_count": null,
   "metadata": {},
   "outputs": [],
   "source": [
    "# Let's create a sample file\n",
    "with open(\"sample.txt\", \"w\") as file:\n",
    "    file.write(\"This is a sample file.\\n\")\n",
    "    file.write(\"It contains two lines of text.\\n\")\n",
    "\n",
    "\n",
    "def count_lines(filename):\n",
    "    \"\"\"Counts the number of lines in a file.\"\"\"\n",
    "    with open(filename, \"r\") as file:\n",
    "        line_count = sum(1 for _ in file)\n",
    "        return line_count\n",
    "\n",
    "\n",
    "# Example usage\n",
    "filename = \"sample.txt\"\n",
    "print(\"Number of lines:\", count_lines(filename))\n",
    "\n",
    "\n",
    "# A more performant way to do this is to use the file object's\n",
    "# readlines method\n",
    "def count_lines(filename):\n",
    "    \"\"\"Counts the number of lines in a file.\"\"\"\n",
    "    with open(filename, \"r\") as file:\n",
    "        return len(file.readlines())\n",
    "\n",
    "\n",
    "print(\"Number of lines:\", count_lines(filename))"
   ]
  },
  {
   "cell_type": "markdown",
   "metadata": {},
   "source": [
    "Question 19\n"
   ]
  },
  {
   "cell_type": "code",
   "execution_count": null,
   "metadata": {},
   "outputs": [],
   "source": [
    "def count_words(filename):\n",
    "    \"\"\"Counts the number of words in a file.\"\"\"\n",
    "    with open(filename, \"r\") as file:\n",
    "        word_count = 0\n",
    "        for line in file:\n",
    "            word_count += len(line.split())\n",
    "        return word_count\n",
    "\n",
    "\n",
    "# Example usage\n",
    "filename = \"sample.txt\"\n",
    "print(\"Number of words:\", count_words(filename))\n",
    "\n",
    "\n",
    "# A more advanced way to do this is to use a generator expression\n",
    "# This is more pythonic and efficient\n",
    "def count_words(filename):\n",
    "    \"\"\"Counts the number of words in a file.\"\"\"\n",
    "    with open(filename, \"r\") as file:\n",
    "        return sum(len(line.split()) for line in file)\n",
    "\n",
    "\n",
    "print(\"Number of words:\", count_words(filename))"
   ]
  },
  {
   "cell_type": "markdown",
   "metadata": {},
   "source": [
    "Question 20\n"
   ]
  },
  {
   "cell_type": "code",
   "execution_count": null,
   "metadata": {},
   "outputs": [],
   "source": [
    "def copy_file(source_file, destination_file):\n",
    "    \"\"\"Copies the content of one file to another.\"\"\"\n",
    "    # The with can be used to open multiple files\n",
    "    with open(source_file, \"r\") as source, open(destination_file, \"w\") as dest:\n",
    "        for line in source:\n",
    "            dest.write(line)\n",
    "\n",
    "\n",
    "# Example usage\n",
    "copy_file(\"sample.txt\", \"sample_copy.txt\")\n",
    "\n",
    "# Let's read the content of the copied file\n",
    "# for good measure\n",
    "with open(\"sample_copy.txt\", \"r\") as file:\n",
    "    content = file.read()\n",
    "    print(content)"
   ]
  },
  {
   "cell_type": "markdown",
   "metadata": {},
   "source": [
    "Question 21\n"
   ]
  },
  {
   "cell_type": "code",
   "execution_count": null,
   "metadata": {},
   "outputs": [],
   "source": [
    "def replace_word(filename, old_word, new_word):\n",
    "    \"\"\"Replaces a word in a file and writes to a new file.\"\"\"\n",
    "    with open(filename, \"r\") as infile, open(\"modified.txt\", \"w\") as outfile:\n",
    "        for line in infile:\n",
    "            outfile.write(line.replace(old_word, new_word))\n",
    "\n",
    "\n",
    "# Example usage\n",
    "# Let's use the sample copy file we created earlier\n",
    "# If you have not yet run the cell above that creates the file,\n",
    "# please do so before running this cell\n",
    "replace_word(\"sample_copy.txt\", \"sample\", \"cool sample\")"
   ]
  },
  {
   "cell_type": "markdown",
   "metadata": {},
   "source": [
    "Question 22\n"
   ]
  },
  {
   "cell_type": "code",
   "execution_count": null,
   "metadata": {},
   "outputs": [],
   "source": [
    "import csv\n",
    "\n",
    "\n",
    "def read_csv(filename):\n",
    "    \"\"\"Reads a CSV file and prints each row as a list.\"\"\"\n",
    "    with open(filename, \"r\") as file:\n",
    "        reader = csv.reader(file)\n",
    "        for row in reader:\n",
    "            print(row)\n",
    "\n",
    "\n",
    "# Let's create a sample CSV file to test our function\n",
    "with open(\"data.csv\", \"w\") as file:\n",
    "    file.write(\"Name, Age, City\\n\")\n",
    "    file.write(\"John Doe, 30, San Francisco\\n\")\n",
    "    file.write(\"Jane Smith, 25, Miami\\n\")\n",
    "\n",
    "# Example usage\n",
    "read_csv(\"data.csv\")"
   ]
  },
  {
   "cell_type": "markdown",
   "metadata": {},
   "source": [
    "Question 23\n"
   ]
  },
  {
   "cell_type": "code",
   "execution_count": null,
   "metadata": {},
   "outputs": [],
   "source": [
    "def append_to_file(filename, text):\n",
    "    \"\"\"Appends text to an existing file.\"\"\"\n",
    "    with open(filename, \"a\") as file:\n",
    "        file.write(text + \"\\n\")  # Add a newline for better formatting\n",
    "\n",
    "\n",
    "# Example usage\n",
    "filename = \"my_notes.txt\"\n",
    "user_input = input(\"Enter text to append: \")\n",
    "append_to_file(filename, user_input)"
   ]
  },
  {
   "cell_type": "markdown",
   "metadata": {},
   "source": [
    "Question 24\n"
   ]
  },
  {
   "cell_type": "code",
   "execution_count": null,
   "metadata": {},
   "outputs": [],
   "source": [
    "def is_prime(number):\n",
    "    \"\"\"Checks if a number is prime.\"\"\"\n",
    "    if number <= 1:\n",
    "        return False\n",
    "    for i in range(2, int(number**0.5) + 1):\n",
    "        if number % i == 0:\n",
    "            return False\n",
    "    return True\n",
    "\n",
    "\n",
    "# Example usage\n",
    "print(is_prime(7))  # Output: True\n",
    "print(is_prime(10))  # Output: False\n",
    "\n",
    "# A more efficient way to do this is to use the sympy library\n",
    "# sympy is a Python library for symbolic mathematics\n",
    "# it uses highly optimized algorithms written in C/C++ or FORTRAN\n",
    "# This is key for performance-critical applications\n",
    "from sympy import isprime\n",
    "\n",
    "print(\"======= using sympy======\")\n",
    "print(isprime(7))  # Output: True\n",
    "print(isprime(10))  # Output: False"
   ]
  },
  {
   "cell_type": "markdown",
   "metadata": {},
   "source": [
    "Question 25\n"
   ]
  },
  {
   "cell_type": "code",
   "execution_count": null,
   "metadata": {},
   "outputs": [],
   "source": [
    "def factorial(n):\n",
    "    \"\"\"Calculates the factorial of a number.\"\"\"\n",
    "    if n == 0:\n",
    "        return 1\n",
    "    else:\n",
    "        return n * factorial(n - 1)\n",
    "\n",
    "\n",
    "# Example usage\n",
    "print(factorial(5))  # Output: 120\n",
    "\n",
    "# factorial is an example of a recursive function\n",
    "\"\"\"\n",
    "This simple recursive implementation has exponential time complexity \n",
    "O(2^n) making it impractical for large values of n. \n",
    "Furthermore, Python has a default recursion limit, \n",
    "which you can check and set using the sys module. \n",
    "By default, this limit is 1000, meaning that attempting to compute \n",
    "factorial(n) for values around 1000 or higher will likely result in a RecursionError\n",
    "\"\"\"\n",
    "\n",
    "\n",
    "# An iterative approach is more efficient and recommended\n",
    "def factorial(n):\n",
    "    \"\"\"Calculates the factorial of a number.\"\"\"\n",
    "    result = 1\n",
    "    for i in range(1, n + 1):\n",
    "        result *= i\n",
    "    return result\n",
    "\n",
    "\n",
    "print(factorial(5))  # Output: 120\n",
    "\n",
    "# Or you can use the standard library  math module\n",
    "import math\n",
    "\n",
    "print(math.factorial(5))  # Output: 120"
   ]
  },
  {
   "cell_type": "markdown",
   "metadata": {},
   "source": [
    "Question 26\n"
   ]
  },
  {
   "cell_type": "code",
   "execution_count": null,
   "metadata": {},
   "outputs": [],
   "source": [
    "def gcd(a, b):\n",
    "    \"\"\"Calculates the greatest common divisor (GCD) of two numbers.\"\"\"\n",
    "    while b:\n",
    "        a, b = b, a % b\n",
    "    return a\n",
    "\n",
    "\n",
    "# Example usage\n",
    "print(gcd(48, 18))  # Output: 6\n",
    "\n",
    "# The math module provides a gcd function\n",
    "import math\n",
    "\n",
    "print(math.gcd(48, 18))  # Output: 6"
   ]
  },
  {
   "cell_type": "markdown",
   "metadata": {},
   "source": [
    "Question 27\n"
   ]
  },
  {
   "cell_type": "markdown",
   "metadata": {},
   "source": [
    "Create a file called 'arithmetic.py' and add the functions and below. Then create a file where you import the functions and test them.\n"
   ]
  },
  {
   "cell_type": "code",
   "execution_count": null,
   "metadata": {},
   "outputs": [],
   "source": [
    "# --- arithmetic.py ---\n",
    "def add(x, y):\n",
    "    return x + y\n",
    "\n",
    "\n",
    "def subtract(x, y):\n",
    "    return x - y\n",
    "\n",
    "\n",
    "def multiply(x, y):\n",
    "    return x * y\n",
    "\n",
    "\n",
    "def divide(x, y):\n",
    "    if y == 0:\n",
    "        raise ZeroDivisionError(\"Cannot divide by zero!\")\n",
    "    else:\n",
    "        return x / y\n",
    "\n",
    "\n",
    "# --- In another Python file ---\n",
    "\"\"\"\n",
    "import arithmetic\n",
    "print(arithmetic.add(5, 3))      # Output: 8\n",
    "print(arithmetic.subtract(10, 4)) # Output: 6\n",
    "\"\"\"\n",
    "\n",
    "print(\"======= arithmetic.py =======\")"
   ]
  },
  {
   "cell_type": "markdown",
   "metadata": {},
   "source": [
    "Question 28\n"
   ]
  },
  {
   "cell_type": "code",
   "execution_count": null,
   "metadata": {},
   "outputs": [],
   "source": [
    "def apply_function(data, func):\n",
    "    \"\"\"Applies a given function to each element of a list.\"\"\"\n",
    "    return [func(x) for x in data]\n",
    "\n",
    "\n",
    "# Example usage\n",
    "numbers = [1, 2, 3, 4, 5]\n",
    "squared_numbers = apply_function(numbers, lambda x: x**2)\n",
    "print(squared_numbers)  # Output: [1, 4, 9, 16, 25]\n",
    "\n",
    "\n",
    "# The map function can also be used to do this\n",
    "# but the list comprehension approach is more readable\n",
    "# and recommended\n",
    "def apply_function(data, func):\n",
    "    \"\"\"Applies a given function to each element of a list.\"\"\"\n",
    "    return list(map(func, data))\n",
    "\n",
    "\n",
    "print(apply_function(numbers, lambda x: x**2))  # Output: [1, 4, 9, 16, 25]"
   ]
  },
  {
   "cell_type": "markdown",
   "metadata": {},
   "source": [
    "Question 29\n"
   ]
  },
  {
   "cell_type": "code",
   "execution_count": null,
   "metadata": {},
   "outputs": [],
   "source": [
    "class StudentGrades:\n",
    "    def __init__(self):\n",
    "        self.grades = {}\n",
    "\n",
    "    def add_student(self, name, grade=None):\n",
    "        \"\"\"Adds a new student to the grades dictionary.\"\"\"\n",
    "        self.grades[name] = grade or 0\n",
    "\n",
    "    def update_grade(self, name, grade):\n",
    "        \"\"\"Updates the grade of a student.\"\"\"\n",
    "        if name in self.grades:\n",
    "            self.grades[name] = grade\n",
    "        else:\n",
    "            print(\"Student not found.\")\n",
    "\n",
    "    def get_grade(self, name):\n",
    "        \"\"\"Retrieves the grade of a student.\"\"\"\n",
    "        if name in self.grades:\n",
    "            return self.grades[name]\n",
    "        else:\n",
    "            print(\"Student not found.\")\n",
    "            return None\n",
    "\n",
    "\n",
    "# Example usage\n",
    "grades = StudentGrades()\n",
    "grades.add_student(\"Alice\", 90)\n",
    "grades.add_student(\"John\")  # Default grade is 0\n",
    "grades.update_grade(\"John\", 75)\n",
    "\n",
    "print(grades.get_grade(\"Alice\"))  # Output: 90\n",
    "print(grades.get_grade(\"John\"))  # Output: 75"
   ]
  },
  {
   "cell_type": "markdown",
   "metadata": {},
   "source": [
    "Question 30\n"
   ]
  },
  {
   "cell_type": "code",
   "execution_count": null,
   "metadata": {},
   "outputs": [],
   "source": [
    "class Library:\n",
    "    def __init__(self):\n",
    "        self.books = []\n",
    "\n",
    "    def add_book(self, title, author, year):\n",
    "        \"\"\"Adds a book to the library.\"\"\"\n",
    "        book = {\"title\": title, \"author\": author, \"year\": year}\n",
    "        self.books.append(book)\n",
    "\n",
    "    def find_book(self, query, search_by=\"title\"):\n",
    "        \"\"\"Finds books by title or author.\"\"\"\n",
    "        matches = []\n",
    "        for book in self.books:\n",
    "            if book[search_by].lower() == query.lower():\n",
    "                matches.append(book)\n",
    "        return matches\n",
    "\n",
    "    def list_books(self):\n",
    "        \"\"\"Lists all books in the library.\"\"\"\n",
    "        for book in self.books:\n",
    "            print(book)\n",
    "\n",
    "\n",
    "# Example usage\n",
    "my_library = Library()\n",
    "my_library.add_book(\"The Hitchhiker's Guide to the Galaxy\", \"Douglas Adams\", 1979)\n",
    "my_library.add_book(\"Pride and Prejudice\", \"Jane Austen\", 1813)\n",
    "my_library.list_books()\n",
    "\n",
    "# search by title\n",
    "print(\"==========================\")\n",
    "print(my_library.find_book(\"the hitchhiker's guide to the galaxy\"))\n",
    "\n",
    "# search by author\n",
    "print(\"==========================\")\n",
    "print(my_library.find_book(\"Jane Austen\", search_by=\"author\"))"
   ]
  },
  {
   "cell_type": "markdown",
   "metadata": {},
   "source": [
    "Question 31\n"
   ]
  },
  {
   "cell_type": "code",
   "execution_count": null,
   "metadata": {},
   "outputs": [],
   "source": [
    "class Stack:\n",
    "    def __init__(self):\n",
    "        self.items = []\n",
    "\n",
    "    def is_empty(self):\n",
    "        return len(self.items) == 0\n",
    "\n",
    "    def push(self, item):\n",
    "        self.items.append(item)\n",
    "\n",
    "    def pop(self):\n",
    "        if not self.is_empty():\n",
    "            return self.items.pop()\n",
    "        else:\n",
    "            print(\"Stack is empty.\")\n",
    "            return None\n",
    "\n",
    "    def peek(self):\n",
    "        if not self.is_empty():\n",
    "            return self.items[-1]\n",
    "        else:\n",
    "            print(\"Stack is empty.\")\n",
    "            return None\n",
    "\n",
    "\n",
    "# Example usage\n",
    "my_stack = Stack()\n",
    "my_stack.push(1)\n",
    "my_stack.push(2)\n",
    "print(my_stack.pop())  # Output: 2\n",
    "print(my_stack.peek())  # Output: 1"
   ]
  },
  {
   "cell_type": "markdown",
   "metadata": {},
   "source": [
    "Question 32\n"
   ]
  },
  {
   "cell_type": "code",
   "execution_count": null,
   "metadata": {},
   "outputs": [],
   "source": [
    "class Queue:\n",
    "    def __init__(self):\n",
    "        self.items = []\n",
    "\n",
    "    def is_empty(self):\n",
    "        return len(self.items) == 0\n",
    "\n",
    "    def enqueue(self, item):\n",
    "        self.items.append(item)  # Add item to the end of the list\n",
    "\n",
    "    def dequeue(self):\n",
    "        if not self.is_empty():\n",
    "            return self.items.pop(0)  # Remove and return the first item\n",
    "        else:\n",
    "            print(\"Queue is empty.\")\n",
    "            return None\n",
    "\n",
    "    def peek(self):\n",
    "        if not self.is_empty():\n",
    "            return self.items[0]  # Return the first item\n",
    "        else:\n",
    "            print(\"Queue is empty.\")\n",
    "            return None\n",
    "\n",
    "\n",
    "# Example usage\n",
    "my_queue = Queue()\n",
    "my_queue.enqueue(1)\n",
    "my_queue.enqueue(2)\n",
    "print(my_queue.dequeue())  # Output: 1\n",
    "print(my_queue.peek())  # Output: 2\n",
    "\n",
    "print(\"======= Using deque =======\")\n",
    "# For more efficient queue operations, you can use the deque class\n",
    "# from the collections module\n",
    "from collections import deque\n",
    "\n",
    "q = deque()\n",
    "\n",
    "q.append(1)\n",
    "q.append(2)\n",
    "q.append(3)\n",
    "\n",
    "print(q.popleft())  # Output: 1\n",
    "print(q.popleft())  # Output: 2"
   ]
  },
  {
   "cell_type": "markdown",
   "metadata": {},
   "source": [
    "Question 33\n"
   ]
  },
  {
   "cell_type": "code",
   "execution_count": null,
   "metadata": {},
   "outputs": [],
   "source": [
    "class Inventory:\n",
    "    def __init__(self):\n",
    "        self.items = {}\n",
    "\n",
    "    def add_item(self, name, quantity, price):\n",
    "        \"\"\"Adds an item to the inventory.\"\"\"\n",
    "        if name not in self.items:\n",
    "            self.items[name] = {\"quantity\": quantity, \"price\": price}\n",
    "        else:\n",
    "            print(\"Item already exists. Use update_quantity instead.\")\n",
    "\n",
    "    def increment_quantity(self, name, quantity):\n",
    "        \"\"\"Updates the quantity of an item.\"\"\"\n",
    "        if name in self.items:\n",
    "            self.items[name][\"quantity\"] += quantity\n",
    "        else:\n",
    "            print(\"Item not found.\")\n",
    "\n",
    "    def update_quantity(self, name, quantity):\n",
    "        \"\"\"Updates the quantity of an item.\"\"\"\n",
    "        if name in self.items:\n",
    "            self.items[name][\"quantity\"] = quantity\n",
    "        else:\n",
    "            print(\"Item not found.\")\n",
    "\n",
    "    def update_price(self, name, price):\n",
    "        \"\"\"Updates the price of an item.\"\"\"\n",
    "        if name in self.items:\n",
    "            self.items[name][\"price\"] = price\n",
    "        else:\n",
    "            print(\"Item not found.\")\n",
    "\n",
    "    def check_stock(self, name):\n",
    "        \"\"\"Checks the available quantity of an item.\"\"\"\n",
    "        if name in self.items:\n",
    "            return self.items[name][\"quantity\"]\n",
    "        else:\n",
    "            print(\"Item not found.\")\n",
    "            return None\n",
    "\n",
    "    def display_inventory(self):\n",
    "        \"\"\"Displays all items in the inventory.\"\"\"\n",
    "        if not self.items:\n",
    "            print(\"Inventory is empty.\")\n",
    "        else:\n",
    "            for name, details in self.items.items():\n",
    "                print(\n",
    "                    f\"Item: {name}, Quantity: {details['quantity']}, Price: {details['price']}\"\n",
    "                )\n",
    "\n",
    "\n",
    "# Example usage\n",
    "my_inventory = Inventory()\n",
    "my_inventory.add_item(\"Laptop\", 10, 800)\n",
    "my_inventory.add_item(\"Mouse\", 20, 15)\n",
    "my_inventory.increment_quantity(\"Laptop\", -2)  # Sold 2 laptops\n",
    "my_inventory.update_price(\"Mouse\", 20)  # Price increased\n",
    "my_inventory.display_inventory()"
   ]
  },
  {
   "cell_type": "markdown",
   "metadata": {},
   "source": [
    "# Object-Oriented Programming\n"
   ]
  },
  {
   "cell_type": "markdown",
   "metadata": {},
   "source": [
    "Question 34\n"
   ]
  },
  {
   "cell_type": "code",
   "execution_count": null,
   "metadata": {},
   "outputs": [],
   "source": [
    "class Dog:\n",
    "    def __init__(self, name, breed, age):\n",
    "        self.name = name\n",
    "        self.breed = breed\n",
    "        self.age = age\n",
    "\n",
    "    def bark(self):\n",
    "        print(\"Woof!\")\n",
    "\n",
    "    def eat(self, food):\n",
    "        print(f\"{self.name} is eating {food}.\")\n",
    "\n",
    "    def sleep(self):\n",
    "        print(f\"{self.name} is sleeping.\")\n",
    "\n",
    "\n",
    "# Example usage\n",
    "my_dog = Dog(\"Buddy\", \"Labrador\", 3)\n",
    "my_dog.bark()  # Output: Woof!\n",
    "my_dog.eat(\"bones\")  # Output: Buddy is eating bones.\n",
    "my_dog.sleep()  # Output: Buddy is sleeping."
   ]
  },
  {
   "cell_type": "markdown",
   "metadata": {},
   "source": [
    "Question 35\n"
   ]
  },
  {
   "cell_type": "code",
   "execution_count": null,
   "metadata": {},
   "outputs": [],
   "source": [
    "class Vehicle:\n",
    "    def __init__(self, make, model, year):\n",
    "        self.make = make\n",
    "        self.model = model\n",
    "        self.year = year\n",
    "\n",
    "    def accelerate(self):\n",
    "        print(\"Vehicle accelerating.\")\n",
    "\n",
    "    def brake(self):\n",
    "        print(\"Vehicle braking.\")\n",
    "\n",
    "    def honk(self):\n",
    "        print(\"Honk!\")\n",
    "\n",
    "\n",
    "class Car(Vehicle):\n",
    "    def __init__(self, make, model, year, num_doors):\n",
    "        super().__init__(make, model, year)  # Call the parent class constructor\n",
    "        self.num_doors = num_doors\n",
    "\n",
    "    def honk(self):  # Overriding the honk method\n",
    "        print(\"Beep beep!\")\n",
    "\n",
    "\n",
    "class Motorcycle(Vehicle):\n",
    "    def __init__(self, make, model, year, engine_size):\n",
    "        super().__init__(make, model, year)\n",
    "        self.engine_size = engine_size\n",
    "\n",
    "\n",
    "# Example usage\n",
    "my_car = Car(\"Toyota\", \"Camry\", 2022, 4)\n",
    "my_motorcycle = Motorcycle(\"Harley-Davidson\", \"Street 750\", 2023, 750)\n",
    "\n",
    "my_car.honk()  # Output: Beep beep!\n",
    "my_motorcycle.honk()  # Output: Honk!"
   ]
  },
  {
   "cell_type": "markdown",
   "metadata": {},
   "source": [
    "Question 36\n"
   ]
  },
  {
   "cell_type": "code",
   "execution_count": null,
   "metadata": {},
   "outputs": [],
   "source": [
    "class BankAccount:\n",
    "    def __init__(self, account_number, owner_name, initial_balance=0):\n",
    "        self.account_number = account_number\n",
    "        self.owner_name = owner_name\n",
    "        self.balance = initial_balance\n",
    "\n",
    "    def deposit(self, amount):\n",
    "        \"\"\"Deposits money into the account.\"\"\"\n",
    "        if amount <= 0:\n",
    "            print(\"Deposit amount must be greater than 0.\")\n",
    "            return\n",
    "\n",
    "        self.balance += amount\n",
    "        print(f\"Deposited ${amount:.2f}. New balance: ${self.balance:.2f}\")\n",
    "\n",
    "    def withdraw(self, amount):\n",
    "        \"\"\"Withdraws money from the account.\"\"\"\n",
    "        if amount <= 0:\n",
    "            print(\"Withdrawal amount must be greater than 0.\")\n",
    "            return\n",
    "\n",
    "        if self.balance >= amount:\n",
    "            self.balance -= amount\n",
    "            print(f\"Withdrew ${amount:.2f}. New balance: ${self.balance:.2f}\")\n",
    "        else:\n",
    "            print(\"Insufficient funds.\")\n",
    "\n",
    "    def check_balance(self):\n",
    "        \"\"\"Prints the current balance.\"\"\"\n",
    "        print(f\"Account balance for {self.owner_name}: ${self.balance:.2f}\")\n",
    "\n",
    "\n",
    "# Example usage\n",
    "alice_account = BankAccount(\"1234567890\", \"Alice\", 1000)\n",
    "alice_account.deposit(500)\n",
    "alice_account.withdraw(200)\n",
    "alice_account.check_balance()"
   ]
  },
  {
   "cell_type": "markdown",
   "metadata": {},
   "source": [
    "Question 37\n"
   ]
  },
  {
   "cell_type": "markdown",
   "metadata": {},
   "source": [
    "Create a class called \"Rectangle\" with attributes like length and width. Define methods for calculating the area and perimeter of the rectangle\n"
   ]
  },
  {
   "cell_type": "code",
   "execution_count": null,
   "metadata": {},
   "outputs": [],
   "source": [
    "class Rectangle:\n",
    "    def __init__(self, length, width):\n",
    "        self.length = length\n",
    "        self.width = width\n",
    "\n",
    "    def area(self):\n",
    "        return self.length * self.width\n",
    "\n",
    "    def perimeter(self):\n",
    "        return 2 * (self.length + self.width)\n",
    "\n",
    "    def is_square(self):\n",
    "        return self.length == self.width\n",
    "\n",
    "\n",
    "# Example usage\n",
    "rectangle = Rectangle(10, 20)\n",
    "print(rectangle.area())  # Output: 200\n",
    "print(rectangle.perimeter())  # Output: 60\n",
    "print(rectangle.is_square())  # Output: False"
   ]
  },
  {
   "cell_type": "markdown",
   "metadata": {},
   "source": [
    "Question 38\n"
   ]
  },
  {
   "cell_type": "code",
   "execution_count": null,
   "metadata": {},
   "outputs": [],
   "source": [
    "import random\n",
    "\n",
    "\n",
    "class Card:\n",
    "    def __init__(self, suit, rank, value):\n",
    "        self.suit = suit\n",
    "        self.rank = rank\n",
    "        self.value = value\n",
    "\n",
    "    def __str__(self):\n",
    "        return f\"{self.rank} of {self.suit}\"\n",
    "\n",
    "\n",
    "class Deck:\n",
    "    def __init__(self):\n",
    "        suits = [\"Hearts\", \"Diamonds\", \"Clubs\", \"Spades\"]\n",
    "        ranks = [\n",
    "            (\"2\", 2),\n",
    "            (\"3\", 3),\n",
    "            (\"4\", 4),\n",
    "            (\"5\", 5),\n",
    "            (\"6\", 6),\n",
    "            (\"7\", 7),\n",
    "            (\"8\", 8),\n",
    "            (\"9\", 9),\n",
    "            (\"10\", 10),\n",
    "            (\"Jack\", 11),\n",
    "            (\"Queen\", 12),\n",
    "            (\"King\", 13),\n",
    "            (\"Ace\", 14),\n",
    "        ]\n",
    "\n",
    "        # Nested list comprehension\n",
    "        self.cards = [\n",
    "            Card(suit, rank, value) for suit in suits for rank, value in ranks\n",
    "        ]\n",
    "\n",
    "        # Shuffle the deck\n",
    "        random.shuffle(self.cards)\n",
    "\n",
    "    def deal(self):\n",
    "        \"\"\"Deals a card from the deck.\"\"\"\n",
    "        if len(self.cards) > 0:\n",
    "            return self.cards.pop()\n",
    "        else:\n",
    "            return None\n",
    "\n",
    "\n",
    "class Player:\n",
    "    def __init__(self, name):\n",
    "        self.name = name  # Player's name\n",
    "        self.hand = []  # List to hold the player's cards\n",
    "        self.score = 0  # Player's score\n",
    "\n",
    "    def draw(self, deck):\n",
    "        \"\"\"Draws a card from the deck and adds it to the player's hand.\"\"\"\n",
    "        card = deck.deal()\n",
    "        if card:\n",
    "            self.hand.append(card)\n",
    "            self.score += card.value  # Update the player's score\n",
    "        else:\n",
    "            print(\"No more cards in the deck.\")\n",
    "\n",
    "    def show_hand(self):\n",
    "        \"\"\"Prints the cards in the player's hand.\"\"\"\n",
    "        print(f\"{self.name}'s hand:\")\n",
    "        for card in self.hand:\n",
    "            print(card)\n",
    "        print(f\"Total score: {self.score}\")\n",
    "\n",
    "\n",
    "def determine_winner(player1, player2):\n",
    "    \"\"\"Determines the winner based on the players' scores.\"\"\"\n",
    "    if player1.score > player2.score:\n",
    "        print(f\"{player1.name} wins with a score of {player1.score}!\")\n",
    "    elif player2.score > player1.score:\n",
    "        print(f\"{player2.name} wins with a score of {player2.score}!\")\n",
    "    else:\n",
    "        print(\"It's a tie!\")\n",
    "\n",
    "\n",
    "# Example usage:\n",
    "deck = Deck()\n",
    "player1 = Player(\"Alice\")\n",
    "player2 = Player(\"Bob\")\n",
    "\n",
    "for _ in range(5):  # Deal 5 cards to each player\n",
    "    player1.draw(deck)\n",
    "    player2.draw(deck)\n",
    "\n",
    "player1.show_hand()\n",
    "print(\"===========\")\n",
    "player2.show_hand()\n",
    "print(\"===========\")\n",
    "determine_winner(player1, player2)"
   ]
  },
  {
   "cell_type": "markdown",
   "metadata": {},
   "source": [
    "Question 39\n"
   ]
  },
  {
   "cell_type": "code",
   "execution_count": null,
   "metadata": {},
   "outputs": [],
   "source": [
    "try:\n",
    "    num1 = int(input(\"Enter the first number: \"))\n",
    "    num2 = int(input(\"Enter the second number: \"))\n",
    "    result = num1 / num2\n",
    "    print(f\"{num1} / {num2} = {result}\")\n",
    "except ZeroDivisionError:\n",
    "    print(\"Error: Cannot divide by zero!\")"
   ]
  },
  {
   "cell_type": "markdown",
   "metadata": {},
   "source": [
    "Question 40\n"
   ]
  },
  {
   "cell_type": "code",
   "execution_count": null,
   "metadata": {},
   "outputs": [],
   "source": [
    "try:\n",
    "    filename = input(\"Enter the filename: \")\n",
    "    with open(filename, \"r\") as file:\n",
    "        content = file.read()\n",
    "        print(content)\n",
    "except FileNotFoundError:\n",
    "    print(f\"Error: The file '{filename}' was not found.\")"
   ]
  },
  {
   "cell_type": "markdown",
   "metadata": {},
   "source": [
    "Question 41\n"
   ]
  },
  {
   "cell_type": "code",
   "execution_count": null,
   "metadata": {},
   "outputs": [],
   "source": [
    "while True:  # Keep asking until valid input\n",
    "    try:\n",
    "        number_str = input(\"Enter an integer: \")\n",
    "        number = int(number_str)\n",
    "        print(\"You entered:\", number)\n",
    "        break  # Exit loop on successful conversion\n",
    "    except ValueError:\n",
    "        print(\"Invalid input. Please enter an integer.\")"
   ]
  },
  {
   "cell_type": "markdown",
   "metadata": {},
   "source": [
    "Question 42\n"
   ]
  },
  {
   "cell_type": "code",
   "execution_count": null,
   "metadata": {},
   "outputs": [],
   "source": [
    "class FileReadingError(Exception):\n",
    "    \"\"\"Custom exception for file reading issues.\"\"\"\n",
    "\n",
    "    def __init__(self, message):\n",
    "        super().__init__(message)\n",
    "\n",
    "\n",
    "try:\n",
    "    filename = input(\"Enter the filename: \")\n",
    "    try:\n",
    "        with open(filename, \"r\") as file:\n",
    "            content = file.read()\n",
    "            print(content)\n",
    "    except FileNotFoundError:\n",
    "        raise FileReadingError(f\"Error: The file '{filename}' was not found.\")\n",
    "    except IOError:\n",
    "        raise FileReadingError(\"Error: An error occurred while reading the file.\")\n",
    "\n",
    "except FileReadingError as e:\n",
    "    print(e)"
   ]
  },
  {
   "cell_type": "markdown",
   "metadata": {},
   "source": [
    "Question 43\n"
   ]
  },
  {
   "cell_type": "code",
   "execution_count": null,
   "metadata": {},
   "outputs": [],
   "source": [
    "import datetime\n",
    "\n",
    "current_datetime = datetime.datetime.now()\n",
    "print(\"Current date and time:\", current_datetime)"
   ]
  },
  {
   "cell_type": "markdown",
   "metadata": {},
   "source": [
    "Question 44\n"
   ]
  },
  {
   "cell_type": "code",
   "execution_count": null,
   "metadata": {},
   "outputs": [],
   "source": [
    "import datetime\n",
    "\n",
    "date1_str = input(\"Enter the first date (YYYY-MM-DD): \")\n",
    "date2_str = input(\"Enter the second date (YYYY-MM-DD): \")\n",
    "\n",
    "# strptime raises a ValueError if the input format is incorrect\n",
    "# you can handle it using a try-except block\n",
    "date1 = datetime.datetime.strptime(date1_str, \"%Y-%m-%d\").date()\n",
    "date2 = datetime.datetime.strptime(date2_str, \"%Y-%m-%d\").date()\n",
    "\n",
    "difference = date2 - date1\n",
    "print(\"Difference in days:\", difference.days)"
   ]
  },
  {
   "cell_type": "markdown",
   "metadata": {},
   "source": [
    "Question 45\n"
   ]
  },
  {
   "cell_type": "code",
   "execution_count": null,
   "metadata": {},
   "outputs": [],
   "source": [
    "import datetime\n",
    "\n",
    "\n",
    "def calculate_age(birth_date):\n",
    "    \"\"\"Calculates age based on birth date.\"\"\"\n",
    "    today = datetime.date.today()\n",
    "    # the age is the difference between the current year and the birth year\n",
    "    # subtract 1 if the birthday has not occurred yet this year\n",
    "    age = (\n",
    "        today.year\n",
    "        - birth_date.year\n",
    "        - ((today.month, today.day) < (birth_date.month, birth_date.day))\n",
    "    )\n",
    "    return age\n",
    "\n",
    "\n",
    "birth_date_str = input(\"Enter your birth date (YYYY-MM-DD): \")\n",
    "birth_date = datetime.datetime.strptime(birth_date_str, \"%Y-%m-%d\").date()\n",
    "\n",
    "age = calculate_age(birth_date)\n",
    "print(\"Your age is:\", age)"
   ]
  },
  {
   "cell_type": "markdown",
   "metadata": {},
   "source": [
    "Question 46\n"
   ]
  },
  {
   "cell_type": "code",
   "execution_count": null,
   "metadata": {},
   "outputs": [],
   "source": [
    "import time\n",
    "\n",
    "seconds_to_wait = int(input(\"Enter seconds to wait: \"))\n",
    "\n",
    "print(f\"Waiting for {seconds_to_wait} seconds...\")\n",
    "time.sleep(seconds_to_wait)  # Wait for specified seconds\n",
    "print(\"Task scheduled to run now!\")\n",
    "\n",
    "# For asyncronous scheduling, you can use asyncio library.\n",
    "# Note that this requires Python 3.7 or later.\n",
    "import asyncio\n",
    "\n",
    "\n",
    "async def scheduled_task():\n",
    "    print(\"Task scheduled to run after 5 seconds.\")\n",
    "\n",
    "\n",
    "async def main():\n",
    "    await asyncio.sleep(5)\n",
    "    await scheduled_task()\n",
    "\n",
    "\n",
    "# asyncio.run(main())\n",
    "# This will raise an error if run in a Jupyter notebook"
   ]
  },
  {
   "cell_type": "markdown",
   "metadata": {},
   "source": [
    "Question 47\n"
   ]
  },
  {
   "cell_type": "code",
   "execution_count": null,
   "metadata": {},
   "outputs": [],
   "source": [
    "import calendar\n",
    "\n",
    "year = 2024\n",
    "month = calendar.MAY\n",
    "\n",
    "print(calendar.month(year, month))"
   ]
  },
  {
   "cell_type": "markdown",
   "metadata": {},
   "source": [
    "Question 48\n"
   ]
  },
  {
   "cell_type": "code",
   "execution_count": null,
   "metadata": {},
   "outputs": [],
   "source": [
    "import re\n",
    "\n",
    "text = \"The quick brown fox jumps over the lazy dog.\"\n",
    "pattern = r\"fox\"  # Match the word \"fox\"\n",
    "\n",
    "match = re.search(pattern, text)\n",
    "if match:\n",
    "    print(\"Match found!\")\n",
    "    print(match.group())  # Output: fox\n",
    "else:\n",
    "    print(\"Match not found.\")"
   ]
  },
  {
   "cell_type": "markdown",
   "metadata": {},
   "source": [
    "Question 49\n"
   ]
  },
  {
   "cell_type": "code",
   "execution_count": null,
   "metadata": {},
   "outputs": [],
   "source": [
    "import re\n",
    "\n",
    "\n",
    "def extract_emails(filename):\n",
    "    \"\"\"Extracts email addresses from a text file.\"\"\"\n",
    "    with open(filename, \"r\") as file:\n",
    "        text = file.read()\n",
    "        emails = re.findall(r\"[a-zA-Z0-9._%+-]+@[a-zA-Z0-9.-]+\\.[a-zA-Z]{2,}\", text)\n",
    "\n",
    "        # Regex pattern explanation:\n",
    "        # [a-zA-Z0-9._%+-]+ matches one or more characters in the set [a-zA-Z0-9._%+-]\n",
    "        # @ matches the character \"@\" literally\n",
    "        # [a-zA-Z0-9.-]+ matches one or more characters in the set [a-zA-Z0-9.-]\n",
    "        # \\. matches the character \".\" literally\n",
    "        # [a-zA-Z]{2,} matches two or more characters in the set [a-zA-Z]\n",
    "        return emails\n",
    "\n",
    "\n",
    "# Lets create a sample file to test the function\n",
    "with open(\"emails.txt\", \"w\") as file:\n",
    "    file.write(\"Emails: johndoe@gmail.com\\n\")\n",
    "    file.write(\"Another email: jane-doe@yahoo.com\\n\")\n",
    "    file.write(\"Send an email to code@clinic.edu\")\n",
    "\n",
    "\n",
    "emails = extract_emails(\"emails.txt\")\n",
    "print(\"Extracted emails:\", emails)"
   ]
  },
  {
   "cell_type": "markdown",
   "metadata": {},
   "source": [
    "Question 50"
   ]
  },
  {
   "cell_type": "code",
   "execution_count": null,
   "metadata": {},
   "outputs": [],
   "source": [
    "import re \n",
    "\n",
    "def validate_phone(phone): \n",
    "  \"\"\"Validates a phone number using a regular expression. \"\"\"\n",
    "  # Adjust the pattern to match your desired phone number format. \n",
    "  # This pattern matches US phone numbers in the format (123) 456-7890   \n",
    "  pattern = r\"^\\(?(\\d{3})\\)?[- ]?(\\d{3})[- ]?(\\d{4})$\" \n",
    "  match = re.match(pattern, phone) \n",
    "  if match:\n",
    "    print(\"Valid phone number\") \n",
    "  else: \n",
    "    print(\"Invalid phone number\") \n",
    "\n",
    "phone_number = \"(123) 456-7890\"\n",
    "validate_phone(phone_number)\n",
    "\n",
    "# validate Ugandan phone numbers\n",
    "# In the form 0777123456 or 256777123456\n",
    "\n",
    "def validate_ug_phone(phone):\n",
    "    \"\"\"Validates a Ugandan phone number using a regular expression.\"\"\"\n",
    "    # This pattern matches Ugandan phone numbers in the format 0777123456 or 256777123456\n",
    "    pattern = r\"^(0|256)(7\\d{8})$\"\n",
    "    match = re.match(pattern, phone)\n",
    "    if match:\n",
    "        print(\"Valid Ugandan phone number\")\n",
    "    else:\n",
    "        print(\"Invalid Ugandan phone number\")\n",
    "\n",
    "numbers = {\n",
    "    \"valid\": [\"0777123456\", \"256777123456\"],\n",
    "    \"invalid\": [\"123456789\", \"256123456789\"],\n",
    "}\n",
    "\n",
    "print(\"=========== Valid phone numbers ==================\")\n",
    "for number in numbers[\"valid\"]:\n",
    "    validate_ug_phone(number)\n",
    "\n",
    "print(\"=========== Invalid phone numbers ==================\")\n",
    "for number in numbers[\"invalid\"]:\n",
    "    validate_ug_phone(number)\n",
    "\n"
   ]
  },
  {
   "cell_type": "markdown",
   "metadata": {},
   "source": [
    "Question 51"
   ]
  },
  {
   "cell_type": "code",
   "execution_count": 22,
   "metadata": {},
   "outputs": [
    {
     "name": "stdout",
     "output_type": "stream",
     "text": [
      "The XXXXX XXXXX fox XXXXX over the lazy dog.\n"
     ]
    }
   ],
   "source": [
    "import re\n",
    "\n",
    "text = \"The quick brown fox jumps over the lazy dog.\"\n",
    "pattern = r\"\\b\\w{5}\\b\" # Match 5-letter words\n",
    "replacement = \"XXXXX\"\n",
    "\n",
    "new_text = re.sub(pattern, replacement, text)\n",
    "print(new_text) # Output: The XXXXX XXXXX fox XXXXX over the lazy dog."
   ]
  }
 ],
 "metadata": {
  "kernelspec": {
   "display_name": ".venv",
   "language": "python",
   "name": "python3"
  },
  "language_info": {
   "codemirror_mode": {
    "name": "ipython",
    "version": 3
   },
   "file_extension": ".py",
   "mimetype": "text/x-python",
   "name": "python",
   "nbconvert_exporter": "python",
   "pygments_lexer": "ipython3",
   "version": "3.12.3"
  }
 },
 "nbformat": 4,
 "nbformat_minor": 2
}
