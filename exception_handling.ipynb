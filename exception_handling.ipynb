{
 "cells": [
  {
   "cell_type": "markdown",
   "metadata": {},
   "source": [
    "# Exception handling\n",
    "\n",
    "In programming, an exception is an event that disrupts the normal flow of the program's instructions. When an exception occurs, the program stops executing and the control is transferred to the exception handler. The exception handler is a block of code that handles the exception and decides what to do next.\n",
    "\n",
    "In Python, exceptions are raised when an error occurs during the execution of the program. For example, if you try to open a file that does not exist, Python raises a `FileNotFoundError` exception. If you try to divide a number by zero, Python raises a `ZeroDivisionError` exception.\n",
    "\n",
    "In this notebook, we will learn how to handle exceptions in Python using the `try`, `except`, `else`, and `finally` blocks."
   ]
  },
  {
   "cell_type": "markdown",
   "metadata": {},
   "source": [
    "\n",
    "## The `try` block\n",
    "\n",
    "The `try` block is used to wrap the code that might raise an exception. If an exception occurs in the `try` block, the program stops executing the `try` block and jumps to the `except` block.\n",
    "\n",
    "```python\n",
    "try:\n",
    "    # code that might raise an exception\n",
    "except ExceptionName:\n",
    "    # code to handle the exception\n",
    "```\n",
    "\n",
    "## The `except` block\n",
    "\n",
    "The `except` block is used to handle the exception raised in the `try` block. You can specify the type of exception that you want to handle in the `except` block. If the exception raised in the `try` block matches the exception specified in the `except` block, the code inside the `except` block is executed.\n",
    "\n",
    "```python\n",
    "try:\n",
    "    # code that might raise an exception\n",
    "except except ZeroDivisionError as e:\n",
    "\n",
    "    # code to handle the exception\n",
    "except FileNotFoundError:\n",
    "    # code to handle the exception\n",
    "except Exception as e:\n",
    "    # code to handle the exception\n",
    "```"
   ]
  },
  {
   "cell_type": "code",
   "execution_count": null,
   "metadata": {},
   "outputs": [],
   "source": [
    "# Example of extensive error handling\n",
    "try:\n",
    "    print(1/0)\n",
    "except ZeroDivisionError as e:\n",
    "    print(\"Error: You can't divide by zero: \", e)\n",
    "except Exception as e:\n",
    "    print(\"Unknown error: \", e)\n",
    "    # Exception is the base class for all exceptions\n",
    "else:\n",
    "    print(\"This will only execute if there is no exception\")\n",
    "    # This is where you would put the code that you want to execute if there is no exception\n",
    "    # or you continue in the try block.\n",
    "finally:\n",
    "    print(\"This will always execute\")"
   ]
  },
  {
   "cell_type": "markdown",
   "metadata": {},
   "source": [
    "# Custom exceptions\n",
    "\n",
    "You can also create your own custom exceptions by creating a new class that inherits from the `Exception` class.\n",
    "\n",
    "```python\n",
    "class PermissionDeniedException(Exception):\n",
    "    pass\n",
    "```\n",
    "\n",
    "You can then raise the custom exception using the `raise` keyword.\n",
    "\n",
    "```python\n",
    "age = 15\n",
    "\n",
    "def vote(age):\n",
    "    if age < 18:\n",
    "        raise PermissionDeniedException(\"You are not allowed to vote.\")\n",
    "\n",
    "try:\n",
    "    vote(age)\n",
    "except PermissionDeniedException as e:\n",
    "    print(\"An error occurred: \", e)\n",
    "```"
   ]
  }
 ],
 "metadata": {
  "language_info": {
   "name": "python"
  }
 },
 "nbformat": 4,
 "nbformat_minor": 2
}
